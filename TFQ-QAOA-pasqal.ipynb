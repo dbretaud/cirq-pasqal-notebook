{
 "cells": [
  {
   "cell_type": "markdown",
   "metadata": {
    "colab_type": "text",
    "id": "kKeM2IR1dGN0"
   },
   "source": [
    "##### Copyright 2020 The TensorFlow Quantum Authors."
   ]
  },
  {
   "cell_type": "markdown",
   "metadata": {
    "colab_type": "text",
    "id": "Z91w8WrIeYQX"
   },
   "source": [
    "# MaxCut QAOA\n",
    "\n",
    "Authors : Michael Streif, David Von Dollen\n",
    "\n",
    "Contributors : Michael Broughton\n",
    "\n",
    "Created : 2019\n",
    "\n",
    "Last updated : 2020-Mar-05"
   ]
  },
  {
   "cell_type": "markdown",
   "metadata": {
    "colab_type": "text",
    "id": "NO5t8JWLeaqO"
   },
   "source": [
    "[![Open In Colab](https://colab.research.google.com/assets/colab-badge.svg)](https://colab.research.google.com/github/tensorflow/quantum/blob/research/qaoa/qaoa.ipynb)"
   ]
  },
  {
   "cell_type": "markdown",
   "metadata": {
    "colab_type": "text",
    "id": "7mlhXBELak9p"
   },
   "source": [
    "This notebook shows an example of how to optimize variational parameters for QAOA using TFQ"
   ]
  },
  {
   "cell_type": "markdown",
   "metadata": {
    "colab_type": "text",
    "id": "MDDFanHIbDfS"
   },
   "source": [
    "First we must install the required libraries"
   ]
  },
  {
   "cell_type": "code",
   "execution_count": 2,
   "metadata": {
    "colab": {},
    "colab_type": "code",
    "id": "3kQL6cljZyJq"
   },
   "outputs": [],
   "source": [
    "import tensorflow as tf\n",
    "import cirq\n",
    "import tensorflow_quantum as tfq\n",
    "import sympy\n",
    "import numpy as np\n",
    "\n",
    "# visualization tools\n",
    "%matplotlib inline\n",
    "import matplotlib.pyplot as plt\n",
    "from cirq.contrib.svg import SVGCircuit\n",
    "#supress warning for matplotlib\n",
    "import warnings\n",
    "warnings.filterwarnings(\"ignore\")"
   ]
  },
  {
   "cell_type": "code",
   "execution_count": 4,
   "metadata": {
    "colab": {},
    "colab_type": "code",
    "id": "Xc4ZYqG1aXJu"
   },
   "outputs": [],
   "source": [
    "import networkx as nx\n",
    "import cirq\n",
    "from cirq.pasqal import PasqalNoiseModel"
   ]
  },
  {
   "cell_type": "markdown",
   "metadata": {
    "colab_type": "text",
    "id": "IxaTUKjkbnaS"
   },
   "source": [
    "We can use QAOA to solve Max-cut. First we need to generate a 3-regular graph with 10 nodes upon which to find the Max-cut using QAOA"
   ]
  },
  {
   "cell_type": "code",
   "execution_count": 5,
   "metadata": {
    "colab": {},
    "colab_type": "code",
    "id": "1J6wZ6zfb0Bi"
   },
   "outputs": [],
   "source": [
    "# generate a 3-regular graph with 8 nodes\n",
    "maxcut_graph = nx.random_regular_graph(n=8,d=3)"
   ]
  },
  {
   "cell_type": "markdown",
   "metadata": {
    "colab_type": "text",
    "id": "fM3quBeNcDF5"
   },
   "source": [
    "Let's visualize the graph"
   ]
  },
  {
   "cell_type": "code",
   "execution_count": 6,
   "metadata": {
    "colab": {},
    "colab_type": "code",
    "id": "3GLOTJj6cFqC"
   },
   "outputs": [
    {
     "data": {
      "image/png": "[encoded data removed]",
      "text/plain": [
       "<Figure size 576x432 with 1 Axes>"
      ]
     },
     "metadata": {},
     "output_type": "display_data"
    }
   ],
   "source": [
    "fig, ax = plt.subplots(1, 1, figsize=(8, 6));\n",
    "nx.draw_networkx(maxcut_graph, ax=ax)"
   ]
  },
  {
   "cell_type": "code",
   "execution_count": 7,
   "metadata": {
    "colab": {},
    "colab_type": "code",
    "id": "XaS5DlNqcJg6"
   },
   "outputs": [],
   "source": [
    "from cirq.pasqal import PasqalVirtualDevice, PasqalDevice\n",
    "\n",
    "p_qubits = cirq.GridQubit.square(3, 3)\n",
    "p_device=PasqalVirtualDevice(control_radius=4, qubits=p_qubits)\n",
    "p_named_device=PasqalDevice(qubits=cirq.NamedQubit.range(9, prefix='q'))"
   ]
  },
  {
   "cell_type": "code",
   "execution_count": 8,
   "metadata": {
    "colab": {},
    "colab_type": "code",
    "id": "g1ihNnOncvFI"
   },
   "outputs": [
    {
     "name": "stdout",
     "output_type": "stream",
     "text": [
      "(3, 0): ───H───\n",
      "\n",
      "(3, 1): ───H───\n",
      "\n",
      "(3, 2): ───H───\n",
      "\n",
      "(4, 0): ───H───\n",
      "\n",
      "(4, 1): ───H───\n",
      "\n",
      "(4, 2): ───H───\n",
      "\n",
      "(5, 0): ───H───\n",
      "\n",
      "(5, 1): ───H───\n"
     ]
    }
   ],
   "source": [
    "# create layer of hadamards to initialize the superposition state of all \n",
    "# computational states\n",
    "hadamard_circuit = cirq.Circuit(device=p_device)\n",
    "\n",
    "square_Y = cirq.YPowGate(exponent=0.5)\n",
    "for node in maxcut_graph.nodes():\n",
    "    qubit = p_qubits[node]\n",
    "    hadamard_circuit.append(cirq.H.on(qubit))"
   ]
  },
  {
   "cell_type": "code",
   "execution_count": 9,
   "metadata": {
    "colab": {},
    "colab_type": "code",
    "id": "j5tOK2UBc0rP"
   },
   "outputs": [],
   "source": [
    "# define the two parameters for one block of QAOA\n",
    "qaoa_parameters = sympy.symbols('a b')"
   ]
  },
  {
   "cell_type": "code",
   "execution_count": 10,
   "metadata": {
    "colab": {},
    "colab_type": "code",
    "id": "JGgm8N3_c9lu"
   },
   "outputs": [],
   "source": [
    "# define the the mixing and the cost Hamiltonian, H_M and H_P\n",
    "mixing_ham = 0\n",
    "for node in maxcut_graph.nodes():\n",
    "    qubit = cirq_qubits[node]\n",
    "    mixing_ham += cirq.PauliString(cirq.X(qubit))\n",
    "\n",
    "cost_ham = maxcut_graph.number_of_edges()/2\n",
    "for edge in maxcut_graph.edges():\n",
    "    qubit1 = cirq_qubits[edge[0]]\n",
    "    qubit2 = cirq_qubits[edge[1]]\n",
    "    cost_ham += cirq.PauliString(1/2*(cirq.Z(qubit1)*cirq.Z(qubit2)))\n",
    "\n",
    "# generate the qaoa circuit\n",
    "qaoa_circuit = tfq.util.exponential(operators = [cost_ham, mixing_ham], \n",
    "                                    coefficients = qaoa_parameters)"
   ]
  },
  {
   "cell_type": "markdown",
   "metadata": {
    "colab_type": "text",
    "id": "lG52WM2wdPCW"
   },
   "source": [
    "Subsequently, we use these ingredients to build our model. We note here in this case that QAOA has no input data and labels, as we have mapped our graph to the QAOA circuit. To use the TFQ framework we specify the Hadamard circuit as input and convert it to a TFQ tensor. We may then construct a tf.keras model using our QAOA circuit and cost in a TFQ PQC layer, and use a single instance sample for training the variational parameters of the QAOA with the Hadamard gates as an input layer and a target value of $0$ for our loss function. This translates into the following code:"
   ]
  },
  {
   "cell_type": "code",
   "execution_count": 11,
   "metadata": {
    "colab": {},
    "colab_type": "code",
    "id": "MEJ0q4qUdIQ-"
   },
   "outputs": [],
   "source": [
    "# define the model and training data\n",
    "model_circuit, model_readout = qaoa_circuit, cost_ham\n",
    "input_ = [hadamard_circuit]\n",
    "input_ = tfq.convert_to_tensor(input_)\n",
    "optimum = [0]"
   ]
  },
  {
   "cell_type": "code",
   "execution_count": 12,
   "metadata": {
    "colab": {},
    "colab_type": "code",
    "id": "8dfq7vf4dYRd"
   },
   "outputs": [
    {
     "data": {
      "text/plain": [
       "tensorflow_quantum.python.layers.high_level.pqc.PQC"
      ]
     },
     "execution_count": 12,
     "metadata": {},
     "output_type": "execute_result"
    }
   ],
   "source": [
    "# Build the Keras model.\n",
    "optimum=np.array(optimum)\n",
    "model = tf.keras.Sequential()\n",
    "model.add(tf.keras.layers.Input(shape=(), dtype=tf.dtypes.string))\n",
    "model.add(tfq.layers.PQC(model_circuit, model_readout))\n",
    "tfq.layers.PQC"
   ]
  },
  {
   "cell_type": "markdown",
   "metadata": {
    "colab_type": "text",
    "id": "QtTxpOCRl1lE"
   },
   "source": [
    "To optimize the parameters of the ansatz state, we use a classical optimization routine. In general, it would be possible to use pre-calculated parameters  or to implement for QAOA tailored optimization routines. For this tutorial, we choose the Adam optimizer implemented in tensorflow. We also choose the mean absolute error as our loss function."
   ]
  },
  {
   "cell_type": "code",
   "execution_count": 13,
   "metadata": {
    "colab": {},
    "colab_type": "code",
    "id": "GJlUgMFpdhhr"
   },
   "outputs": [
    {
     "name": "stdout",
     "output_type": "stream",
     "text": [
      "Train on 1 samples\n",
      "Epoch 1/300\n",
      "1/1 [==============================] - 2s 2s/sample - loss: 3.7798\n",
      "Epoch 2/300\n",
      "1/1 [==============================] - 0s 9ms/sample - loss: 3.7798\n",
      "Epoch 3/300\n",
      "1/1 [==============================] - 0s 12ms/sample - loss: 3.7798\n",
      "Epoch 4/300\n",
      "1/1 [==============================] - 0s 15ms/sample - loss: 3.7798\n",
      "Epoch 5/300\n",
      "1/1 [==============================] - 0s 15ms/sample - loss: 3.7798\n",
      "Epoch 6/300\n",
      "1/1 [==============================] - 0s 20ms/sample - loss: 3.7798\n",
      "Epoch 7/300\n",
      "1/1 [==============================] - 0s 14ms/sample - loss: 3.7798\n",
      "Epoch 8/300\n",
      "1/1 [==============================] - 0s 14ms/sample - loss: 3.7798\n",
      "Epoch 9/300\n",
      "1/1 [==============================] - 0s 19ms/sample - loss: 3.7798\n",
      "Epoch 10/300\n",
      "1/1 [==============================] - 0s 16ms/sample - loss: 3.7798\n",
      "Epoch 11/300\n",
      "1/1 [==============================] - 0s 23ms/sample - loss: 3.7798\n",
      "Epoch 12/300\n",
      "1/1 [==============================] - 0s 13ms/sample - loss: 3.7798\n",
      "Epoch 13/300\n",
      "1/1 [==============================] - 0s 19ms/sample - loss: 3.7798\n",
      "Epoch 14/300\n",
      "1/1 [==============================] - 0s 11ms/sample - loss: 3.7798\n",
      "Epoch 15/300\n",
      "1/1 [==============================] - 0s 12ms/sample - loss: 3.7798\n",
      "Epoch 16/300\n",
      "1/1 [==============================] - 0s 10ms/sample - loss: 3.7798\n",
      "Epoch 17/300\n",
      "1/1 [==============================] - 0s 10ms/sample - loss: 3.7797\n",
      "Epoch 18/300\n",
      "1/1 [==============================] - 0s 10ms/sample - loss: 3.7797\n",
      "Epoch 19/300\n",
      "1/1 [==============================] - 0s 9ms/sample - loss: 3.7797\n",
      "Epoch 20/300\n",
      "1/1 [==============================] - 0s 12ms/sample - loss: 3.7797\n",
      "Epoch 21/300\n",
      "1/1 [==============================] - 0s 15ms/sample - loss: 3.7797\n",
      "Epoch 22/300\n",
      "1/1 [==============================] - 0s 10ms/sample - loss: 3.7797\n",
      "Epoch 23/300\n",
      "1/1 [==============================] - 0s 11ms/sample - loss: 3.7797\n",
      "Epoch 24/300\n",
      "1/1 [==============================] - 0s 10ms/sample - loss: 3.7797\n",
      "Epoch 25/300\n",
      "1/1 [==============================] - 0s 10ms/sample - loss: 3.7797\n",
      "Epoch 26/300\n",
      "1/1 [==============================] - 0s 10ms/sample - loss: 3.7797\n",
      "Epoch 27/300\n",
      "1/1 [==============================] - 0s 10ms/sample - loss: 3.7797\n",
      "Epoch 28/300\n",
      "1/1 [==============================] - 0s 9ms/sample - loss: 3.7797\n",
      "Epoch 29/300\n",
      "1/1 [==============================] - 0s 12ms/sample - loss: 3.7797\n",
      "Epoch 30/300\n",
      "1/1 [==============================] - 0s 11ms/sample - loss: 3.7797\n",
      "Epoch 31/300\n",
      "1/1 [==============================] - 0s 12ms/sample - loss: 3.7797\n",
      "Epoch 32/300\n",
      "1/1 [==============================] - 0s 10ms/sample - loss: 3.7797\n",
      "Epoch 33/300\n",
      "1/1 [==============================] - 0s 8ms/sample - loss: 3.7797\n",
      "Epoch 34/300\n",
      "1/1 [==============================] - 0s 10ms/sample - loss: 3.7797\n",
      "Epoch 35/300\n",
      "1/1 [==============================] - 0s 10ms/sample - loss: 3.7797\n",
      "Epoch 36/300\n",
      "1/1 [==============================] - 0s 10ms/sample - loss: 3.7797\n",
      "Epoch 37/300\n",
      "1/1 [==============================] - 0s 9ms/sample - loss: 3.7797\n",
      "Epoch 38/300\n",
      "1/1 [==============================] - 0s 12ms/sample - loss: 3.7797\n",
      "Epoch 39/300\n",
      "1/1 [==============================] - 0s 9ms/sample - loss: 3.7797\n",
      "Epoch 40/300\n",
      "1/1 [==============================] - 0s 11ms/sample - loss: 3.7797\n",
      "Epoch 41/300\n",
      "1/1 [==============================] - 0s 12ms/sample - loss: 3.7796\n",
      "Epoch 42/300\n",
      "1/1 [==============================] - 0s 11ms/sample - loss: 3.7797\n",
      "Epoch 43/300\n",
      "1/1 [==============================] - 0s 11ms/sample - loss: 3.7796\n",
      "Epoch 44/300\n",
      "1/1 [==============================] - 0s 12ms/sample - loss: 3.7796\n",
      "Epoch 45/300\n",
      "1/1 [==============================] - 0s 11ms/sample - loss: 3.7796\n",
      "Epoch 46/300\n",
      "1/1 [==============================] - 0s 12ms/sample - loss: 3.7796\n",
      "Epoch 47/300\n",
      "1/1 [==============================] - 0s 14ms/sample - loss: 3.7796\n",
      "Epoch 48/300\n",
      "1/1 [==============================] - 0s 8ms/sample - loss: 3.7796\n",
      "Epoch 49/300\n",
      "1/1 [==============================] - 0s 10ms/sample - loss: 3.7796\n",
      "Epoch 50/300\n",
      "1/1 [==============================] - 0s 12ms/sample - loss: 3.7796\n",
      "Epoch 51/300\n",
      "1/1 [==============================] - 0s 12ms/sample - loss: 3.7796\n",
      "Epoch 52/300\n",
      "1/1 [==============================] - 0s 12ms/sample - loss: 3.7796\n",
      "Epoch 53/300\n",
      "1/1 [==============================] - 0s 9ms/sample - loss: 3.7796\n",
      "Epoch 54/300\n",
      "1/1 [==============================] - 0s 9ms/sample - loss: 3.7796\n",
      "Epoch 55/300\n",
      "1/1 [==============================] - 0s 10ms/sample - loss: 3.7796\n",
      "Epoch 56/300\n",
      "1/1 [==============================] - 0s 10ms/sample - loss: 3.7796\n",
      "Epoch 57/300\n",
      "1/1 [==============================] - 0s 12ms/sample - loss: 3.7796\n",
      "Epoch 58/300\n",
      "1/1 [==============================] - 0s 11ms/sample - loss: 3.7796\n",
      "Epoch 59/300\n",
      "1/1 [==============================] - 0s 12ms/sample - loss: 3.7796\n",
      "Epoch 60/300\n",
      "1/1 [==============================] - 0s 11ms/sample - loss: 3.7796\n",
      "Epoch 61/300\n",
      "1/1 [==============================] - 0s 13ms/sample - loss: 3.7796\n",
      "Epoch 62/300\n",
      "1/1 [==============================] - 0s 12ms/sample - loss: 3.7796\n",
      "Epoch 63/300\n",
      "1/1 [==============================] - 0s 11ms/sample - loss: 3.7796\n",
      "Epoch 64/300\n",
      "1/1 [==============================] - 0s 9ms/sample - loss: 3.7796\n",
      "Epoch 65/300\n",
      "1/1 [==============================] - 0s 9ms/sample - loss: 3.7795\n",
      "Epoch 66/300\n",
      "1/1 [==============================] - 0s 11ms/sample - loss: 3.7795\n",
      "Epoch 67/300\n",
      "1/1 [==============================] - 0s 11ms/sample - loss: 3.7795\n",
      "Epoch 68/300\n",
      "1/1 [==============================] - 0s 10ms/sample - loss: 3.7795\n",
      "Epoch 69/300\n",
      "1/1 [==============================] - 0s 9ms/sample - loss: 3.7795\n",
      "Epoch 70/300\n",
      "1/1 [==============================] - 0s 12ms/sample - loss: 3.7795\n",
      "Epoch 71/300\n",
      "1/1 [==============================] - 0s 10ms/sample - loss: 3.7795\n",
      "Epoch 72/300\n",
      "1/1 [==============================] - 0s 10ms/sample - loss: 3.7795\n",
      "Epoch 73/300\n",
      "1/1 [==============================] - 0s 8ms/sample - loss: 3.7795\n",
      "Epoch 74/300\n",
      "1/1 [==============================] - 0s 10ms/sample - loss: 3.7795\n",
      "Epoch 75/300\n",
      "1/1 [==============================] - 0s 9ms/sample - loss: 3.7795\n",
      "Epoch 76/300\n",
      "1/1 [==============================] - 0s 10ms/sample - loss: 3.7795\n",
      "Epoch 77/300\n",
      "1/1 [==============================] - 0s 9ms/sample - loss: 3.7795\n",
      "Epoch 78/300\n",
      "1/1 [==============================] - 0s 9ms/sample - loss: 3.7795\n",
      "Epoch 79/300\n",
      "1/1 [==============================] - 0s 10ms/sample - loss: 3.7795\n",
      "Epoch 80/300\n",
      "1/1 [==============================] - 0s 11ms/sample - loss: 3.7795\n",
      "Epoch 81/300\n",
      "1/1 [==============================] - 0s 10ms/sample - loss: 3.7795\n",
      "Epoch 82/300\n",
      "1/1 [==============================] - 0s 12ms/sample - loss: 3.7795\n",
      "Epoch 83/300\n",
      "1/1 [==============================] - 0s 11ms/sample - loss: 3.7795\n",
      "Epoch 84/300\n",
      "1/1 [==============================] - 0s 11ms/sample - loss: 3.7795\n",
      "Epoch 85/300\n",
      "1/1 [==============================] - 0s 11ms/sample - loss: 3.7795\n",
      "Epoch 86/300\n",
      "1/1 [==============================] - 0s 9ms/sample - loss: 3.7795\n",
      "Epoch 87/300\n",
      "1/1 [==============================] - 0s 11ms/sample - loss: 3.7795\n",
      "Epoch 88/300\n",
      "1/1 [==============================] - 0s 9ms/sample - loss: 3.7794\n",
      "Epoch 89/300\n",
      "1/1 [==============================] - 0s 9ms/sample - loss: 3.7794\n",
      "Epoch 90/300\n",
      "1/1 [==============================] - 0s 11ms/sample - loss: 3.7794\n",
      "Epoch 91/300\n",
      "1/1 [==============================] - 0s 8ms/sample - loss: 3.7794\n",
      "Epoch 92/300\n",
      "1/1 [==============================] - 0s 10ms/sample - loss: 3.7794\n",
      "Epoch 93/300\n",
      "1/1 [==============================] - 0s 9ms/sample - loss: 3.7794\n",
      "Epoch 94/300\n",
      "1/1 [==============================] - 0s 9ms/sample - loss: 3.7794\n",
      "Epoch 95/300\n",
      "1/1 [==============================] - 0s 11ms/sample - loss: 3.7794\n",
      "Epoch 96/300\n",
      "1/1 [==============================] - 0s 8ms/sample - loss: 3.7794\n",
      "Epoch 97/300\n",
      "1/1 [==============================] - 0s 13ms/sample - loss: 3.7794\n",
      "Epoch 98/300\n",
      "1/1 [==============================] - 0s 9ms/sample - loss: 3.7794\n",
      "Epoch 99/300\n",
      "1/1 [==============================] - 0s 8ms/sample - loss: 3.7794\n",
      "Epoch 100/300\n",
      "1/1 [==============================] - 0s 9ms/sample - loss: 3.7794\n",
      "Epoch 101/300\n"
     ]
    },
    {
     "name": "stdout",
     "output_type": "stream",
     "text": [
      "1/1 [==============================] - 0s 9ms/sample - loss: 3.7794\n",
      "Epoch 102/300\n",
      "1/1 [==============================] - 0s 11ms/sample - loss: 3.7794\n",
      "Epoch 103/300\n",
      "1/1 [==============================] - 0s 8ms/sample - loss: 3.7794\n",
      "Epoch 104/300\n",
      "1/1 [==============================] - 0s 8ms/sample - loss: 3.7794\n",
      "Epoch 105/300\n",
      "1/1 [==============================] - 0s 11ms/sample - loss: 3.7794\n",
      "Epoch 106/300\n",
      "1/1 [==============================] - 0s 9ms/sample - loss: 3.7794\n",
      "Epoch 107/300\n",
      "1/1 [==============================] - 0s 9ms/sample - loss: 3.7794\n",
      "Epoch 108/300\n",
      "1/1 [==============================] - 0s 8ms/sample - loss: 3.7794\n",
      "Epoch 109/300\n",
      "1/1 [==============================] - 0s 9ms/sample - loss: 3.7794\n",
      "Epoch 110/300\n",
      "1/1 [==============================] - 0s 10ms/sample - loss: 3.7794\n",
      "Epoch 111/300\n",
      "1/1 [==============================] - 0s 9ms/sample - loss: 3.7793\n",
      "Epoch 112/300\n",
      "1/1 [==============================] - 0s 10ms/sample - loss: 3.7793\n",
      "Epoch 113/300\n",
      "1/1 [==============================] - 0s 10ms/sample - loss: 3.7793\n",
      "Epoch 114/300\n",
      "1/1 [==============================] - 0s 8ms/sample - loss: 3.7793\n",
      "Epoch 115/300\n",
      "1/1 [==============================] - 0s 9ms/sample - loss: 3.7793\n",
      "Epoch 116/300\n",
      "1/1 [==============================] - 0s 8ms/sample - loss: 3.7793\n",
      "Epoch 117/300\n",
      "1/1 [==============================] - 0s 8ms/sample - loss: 3.7793\n",
      "Epoch 118/300\n",
      "1/1 [==============================] - 0s 9ms/sample - loss: 3.7793\n",
      "Epoch 119/300\n",
      "1/1 [==============================] - 0s 9ms/sample - loss: 3.7793\n",
      "Epoch 120/300\n",
      "1/1 [==============================] - 0s 9ms/sample - loss: 3.7793\n",
      "Epoch 121/300\n",
      "1/1 [==============================] - 0s 11ms/sample - loss: 3.7793\n",
      "Epoch 122/300\n",
      "1/1 [==============================] - 0s 9ms/sample - loss: 3.7793\n",
      "Epoch 123/300\n",
      "1/1 [==============================] - 0s 10ms/sample - loss: 3.7793\n",
      "Epoch 124/300\n",
      "1/1 [==============================] - 0s 7ms/sample - loss: 3.7793\n",
      "Epoch 125/300\n",
      "1/1 [==============================] - 0s 11ms/sample - loss: 3.7793\n",
      "Epoch 126/300\n",
      "1/1 [==============================] - 0s 10ms/sample - loss: 3.7793\n",
      "Epoch 127/300\n",
      "1/1 [==============================] - 0s 8ms/sample - loss: 3.7793\n",
      "Epoch 128/300\n",
      "1/1 [==============================] - 0s 8ms/sample - loss: 3.7793\n",
      "Epoch 129/300\n",
      "1/1 [==============================] - 0s 9ms/sample - loss: 3.7793\n",
      "Epoch 130/300\n",
      "1/1 [==============================] - 0s 9ms/sample - loss: 3.7793\n",
      "Epoch 131/300\n",
      "1/1 [==============================] - 0s 10ms/sample - loss: 3.7793\n",
      "Epoch 132/300\n",
      "1/1 [==============================] - 0s 9ms/sample - loss: 3.7793\n",
      "Epoch 133/300\n",
      "1/1 [==============================] - 0s 11ms/sample - loss: 3.7793\n",
      "Epoch 134/300\n",
      "1/1 [==============================] - 0s 9ms/sample - loss: 3.7792\n",
      "Epoch 135/300\n",
      "1/1 [==============================] - 0s 10ms/sample - loss: 3.7792\n",
      "Epoch 136/300\n",
      "1/1 [==============================] - 0s 10ms/sample - loss: 3.7792\n",
      "Epoch 137/300\n",
      "1/1 [==============================] - 0s 11ms/sample - loss: 3.7792\n",
      "Epoch 138/300\n",
      "1/1 [==============================] - 0s 9ms/sample - loss: 3.7792\n",
      "Epoch 139/300\n",
      "1/1 [==============================] - 0s 9ms/sample - loss: 3.7792\n",
      "Epoch 140/300\n",
      "1/1 [==============================] - 0s 11ms/sample - loss: 3.7792\n",
      "Epoch 141/300\n",
      "1/1 [==============================] - 0s 9ms/sample - loss: 3.7792\n",
      "Epoch 142/300\n",
      "1/1 [==============================] - 0s 8ms/sample - loss: 3.7792\n",
      "Epoch 143/300\n",
      "1/1 [==============================] - 0s 10ms/sample - loss: 3.7792\n",
      "Epoch 144/300\n",
      "1/1 [==============================] - 0s 10ms/sample - loss: 3.7792\n",
      "Epoch 145/300\n",
      "1/1 [==============================] - 0s 10ms/sample - loss: 3.7792\n",
      "Epoch 146/300\n",
      "1/1 [==============================] - 0s 10ms/sample - loss: 3.7792\n",
      "Epoch 147/300\n",
      "1/1 [==============================] - 0s 11ms/sample - loss: 3.7792\n",
      "Epoch 148/300\n",
      "1/1 [==============================] - 0s 8ms/sample - loss: 3.7792\n",
      "Epoch 149/300\n",
      "1/1 [==============================] - 0s 10ms/sample - loss: 3.7792\n",
      "Epoch 150/300\n",
      "1/1 [==============================] - 0s 9ms/sample - loss: 3.7792\n",
      "Epoch 151/300\n",
      "1/1 [==============================] - 0s 10ms/sample - loss: 3.7792\n",
      "Epoch 152/300\n",
      "1/1 [==============================] - 0s 11ms/sample - loss: 3.7792\n",
      "Epoch 153/300\n",
      "1/1 [==============================] - 0s 12ms/sample - loss: 3.7792\n",
      "Epoch 154/300\n",
      "1/1 [==============================] - 0s 10ms/sample - loss: 3.7792\n",
      "Epoch 155/300\n",
      "1/1 [==============================] - 0s 9ms/sample - loss: 3.7792\n",
      "Epoch 156/300\n",
      "1/1 [==============================] - 0s 9ms/sample - loss: 3.7791\n",
      "Epoch 157/300\n",
      "1/1 [==============================] - 0s 11ms/sample - loss: 3.7791\n",
      "Epoch 158/300\n",
      "1/1 [==============================] - 0s 9ms/sample - loss: 3.7791\n",
      "Epoch 159/300\n",
      "1/1 [==============================] - 0s 11ms/sample - loss: 3.7791\n",
      "Epoch 160/300\n",
      "1/1 [==============================] - 0s 10ms/sample - loss: 3.7791\n",
      "Epoch 161/300\n",
      "1/1 [==============================] - 0s 11ms/sample - loss: 3.7791\n",
      "Epoch 162/300\n",
      "1/1 [==============================] - 0s 9ms/sample - loss: 3.7791\n",
      "Epoch 163/300\n",
      "1/1 [==============================] - 0s 10ms/sample - loss: 3.7791\n",
      "Epoch 164/300\n",
      "1/1 [==============================] - 0s 13ms/sample - loss: 3.7791\n",
      "Epoch 165/300\n",
      "1/1 [==============================] - 0s 9ms/sample - loss: 3.7791\n",
      "Epoch 166/300\n",
      "1/1 [==============================] - 0s 10ms/sample - loss: 3.7791\n",
      "Epoch 167/300\n",
      "1/1 [==============================] - 0s 12ms/sample - loss: 3.7791\n",
      "Epoch 168/300\n",
      "1/1 [==============================] - 0s 12ms/sample - loss: 3.7791\n",
      "Epoch 169/300\n",
      "1/1 [==============================] - 0s 8ms/sample - loss: 3.7791\n",
      "Epoch 170/300\n",
      "1/1 [==============================] - 0s 10ms/sample - loss: 3.7791\n",
      "Epoch 171/300\n",
      "1/1 [==============================] - 0s 12ms/sample - loss: 3.7791\n",
      "Epoch 172/300\n",
      "1/1 [==============================] - 0s 9ms/sample - loss: 3.7791\n",
      "Epoch 173/300\n",
      "1/1 [==============================] - 0s 11ms/sample - loss: 3.7791\n",
      "Epoch 174/300\n",
      "1/1 [==============================] - 0s 11ms/sample - loss: 3.7791\n",
      "Epoch 175/300\n",
      "1/1 [==============================] - 0s 13ms/sample - loss: 3.7791\n",
      "Epoch 176/300\n",
      "1/1 [==============================] - 0s 10ms/sample - loss: 3.7791\n",
      "Epoch 177/300\n",
      "1/1 [==============================] - 0s 7ms/sample - loss: 3.7790\n",
      "Epoch 178/300\n",
      "1/1 [==============================] - 0s 11ms/sample - loss: 3.7790\n",
      "Epoch 179/300\n",
      "1/1 [==============================] - 0s 8ms/sample - loss: 3.7790\n",
      "Epoch 180/300\n",
      "1/1 [==============================] - 0s 9ms/sample - loss: 3.7790\n",
      "Epoch 181/300\n",
      "1/1 [==============================] - 0s 11ms/sample - loss: 3.7790\n",
      "Epoch 182/300\n",
      "1/1 [==============================] - 0s 10ms/sample - loss: 3.7790\n",
      "Epoch 183/300\n",
      "1/1 [==============================] - 0s 9ms/sample - loss: 3.7790\n",
      "Epoch 184/300\n",
      "1/1 [==============================] - 0s 8ms/sample - loss: 3.7790\n",
      "Epoch 185/300\n",
      "1/1 [==============================] - 0s 9ms/sample - loss: 3.7790\n",
      "Epoch 186/300\n",
      "1/1 [==============================] - 0s 9ms/sample - loss: 3.7790\n",
      "Epoch 187/300\n",
      "1/1 [==============================] - 0s 10ms/sample - loss: 3.7790\n",
      "Epoch 188/300\n",
      "1/1 [==============================] - 0s 9ms/sample - loss: 3.7790\n",
      "Epoch 189/300\n",
      "1/1 [==============================] - 0s 16ms/sample - loss: 3.7790\n",
      "Epoch 190/300\n",
      "1/1 [==============================] - 0s 9ms/sample - loss: 3.7790\n",
      "Epoch 191/300\n",
      "1/1 [==============================] - 0s 10ms/sample - loss: 3.7790\n",
      "Epoch 192/300\n",
      "1/1 [==============================] - 0s 9ms/sample - loss: 3.7790\n",
      "Epoch 193/300\n",
      "1/1 [==============================] - 0s 11ms/sample - loss: 3.7790\n",
      "Epoch 194/300\n",
      "1/1 [==============================] - 0s 9ms/sample - loss: 3.7790\n",
      "Epoch 195/300\n",
      "1/1 [==============================] - 0s 8ms/sample - loss: 3.7790\n",
      "Epoch 196/300\n",
      "1/1 [==============================] - 0s 11ms/sample - loss: 3.7790\n",
      "Epoch 197/300\n",
      "1/1 [==============================] - 0s 9ms/sample - loss: 3.7790\n",
      "Epoch 198/300\n",
      "1/1 [==============================] - 0s 10ms/sample - loss: 3.7789\n",
      "Epoch 199/300\n",
      "1/1 [==============================] - 0s 9ms/sample - loss: 3.7789\n",
      "Epoch 200/300\n",
      "1/1 [==============================] - 0s 12ms/sample - loss: 3.7789\n"
     ]
    },
    {
     "name": "stdout",
     "output_type": "stream",
     "text": [
      "Epoch 201/300\n",
      "1/1 [==============================] - 0s 11ms/sample - loss: 3.7789\n",
      "Epoch 202/300\n",
      "1/1 [==============================] - 0s 11ms/sample - loss: 3.7789\n",
      "Epoch 203/300\n",
      "1/1 [==============================] - 0s 11ms/sample - loss: 3.7789\n",
      "Epoch 204/300\n",
      "1/1 [==============================] - 0s 9ms/sample - loss: 3.7789\n",
      "Epoch 205/300\n",
      "1/1 [==============================] - 0s 9ms/sample - loss: 3.7789\n",
      "Epoch 206/300\n",
      "1/1 [==============================] - 0s 10ms/sample - loss: 3.7789\n",
      "Epoch 207/300\n",
      "1/1 [==============================] - 0s 11ms/sample - loss: 3.7789\n",
      "Epoch 208/300\n",
      "1/1 [==============================] - 0s 10ms/sample - loss: 3.7789\n",
      "Epoch 209/300\n",
      "1/1 [==============================] - 0s 10ms/sample - loss: 3.7789\n",
      "Epoch 210/300\n",
      "1/1 [==============================] - 0s 10ms/sample - loss: 3.7789\n",
      "Epoch 211/300\n",
      "1/1 [==============================] - 0s 8ms/sample - loss: 3.7789\n",
      "Epoch 212/300\n",
      "1/1 [==============================] - 0s 10ms/sample - loss: 3.7789\n",
      "Epoch 213/300\n",
      "1/1 [==============================] - 0s 10ms/sample - loss: 3.7789\n",
      "Epoch 214/300\n",
      "1/1 [==============================] - 0s 9ms/sample - loss: 3.7789\n",
      "Epoch 215/300\n",
      "1/1 [==============================] - 0s 9ms/sample - loss: 3.7789\n",
      "Epoch 216/300\n",
      "1/1 [==============================] - 0s 10ms/sample - loss: 3.7789\n",
      "Epoch 217/300\n",
      "1/1 [==============================] - 0s 11ms/sample - loss: 3.7789\n",
      "Epoch 218/300\n",
      "1/1 [==============================] - 0s 9ms/sample - loss: 3.7789\n",
      "Epoch 219/300\n",
      "1/1 [==============================] - 0s 9ms/sample - loss: 3.7788\n",
      "Epoch 220/300\n",
      "1/1 [==============================] - 0s 10ms/sample - loss: 3.7788\n",
      "Epoch 221/300\n",
      "1/1 [==============================] - 0s 8ms/sample - loss: 3.7788\n",
      "Epoch 222/300\n",
      "1/1 [==============================] - 0s 11ms/sample - loss: 3.7788\n",
      "Epoch 223/300\n",
      "1/1 [==============================] - 0s 15ms/sample - loss: 3.7788\n",
      "Epoch 224/300\n",
      "1/1 [==============================] - 0s 9ms/sample - loss: 3.7788\n",
      "Epoch 225/300\n",
      "1/1 [==============================] - 0s 9ms/sample - loss: 3.7788\n",
      "Epoch 226/300\n",
      "1/1 [==============================] - 0s 9ms/sample - loss: 3.7788\n",
      "Epoch 227/300\n",
      "1/1 [==============================] - 0s 9ms/sample - loss: 3.7788\n",
      "Epoch 228/300\n",
      "1/1 [==============================] - 0s 11ms/sample - loss: 3.7788\n",
      "Epoch 229/300\n",
      "1/1 [==============================] - 0s 10ms/sample - loss: 3.7788\n",
      "Epoch 230/300\n",
      "1/1 [==============================] - 0s 11ms/sample - loss: 3.7788\n",
      "Epoch 231/300\n",
      "1/1 [==============================] - 0s 11ms/sample - loss: 3.7788\n",
      "Epoch 232/300\n",
      "1/1 [==============================] - 0s 10ms/sample - loss: 3.7788\n",
      "Epoch 233/300\n",
      "1/1 [==============================] - 0s 10ms/sample - loss: 3.7788\n",
      "Epoch 234/300\n",
      "1/1 [==============================] - 0s 12ms/sample - loss: 3.7788\n",
      "Epoch 235/300\n",
      "1/1 [==============================] - 0s 9ms/sample - loss: 3.7788\n",
      "Epoch 236/300\n",
      "1/1 [==============================] - 0s 12ms/sample - loss: 3.7788\n",
      "Epoch 237/300\n",
      "1/1 [==============================] - 0s 9ms/sample - loss: 3.7788\n",
      "Epoch 238/300\n",
      "1/1 [==============================] - 0s 11ms/sample - loss: 3.7788\n",
      "Epoch 239/300\n",
      "1/1 [==============================] - 0s 10ms/sample - loss: 3.7788\n",
      "Epoch 240/300\n",
      "1/1 [==============================] - 0s 12ms/sample - loss: 3.7787\n",
      "Epoch 241/300\n",
      "1/1 [==============================] - 0s 11ms/sample - loss: 3.7787\n",
      "Epoch 242/300\n",
      "1/1 [==============================] - 0s 9ms/sample - loss: 3.7787\n",
      "Epoch 243/300\n",
      "1/1 [==============================] - 0s 10ms/sample - loss: 3.7787\n",
      "Epoch 244/300\n",
      "1/1 [==============================] - 0s 10ms/sample - loss: 3.7787\n",
      "Epoch 245/300\n",
      "1/1 [==============================] - 0s 10ms/sample - loss: 3.7787\n",
      "Epoch 246/300\n",
      "1/1 [==============================] - 0s 12ms/sample - loss: 3.7787\n",
      "Epoch 247/300\n",
      "1/1 [==============================] - 0s 10ms/sample - loss: 3.7787\n",
      "Epoch 248/300\n",
      "1/1 [==============================] - 0s 9ms/sample - loss: 3.7787\n",
      "Epoch 249/300\n",
      "1/1 [==============================] - 0s 9ms/sample - loss: 3.7787\n",
      "Epoch 250/300\n",
      "1/1 [==============================] - 0s 9ms/sample - loss: 3.7787\n",
      "Epoch 251/300\n",
      "1/1 [==============================] - 0s 11ms/sample - loss: 3.7787\n",
      "Epoch 252/300\n",
      "1/1 [==============================] - 0s 10ms/sample - loss: 3.7787\n",
      "Epoch 253/300\n",
      "1/1 [==============================] - 0s 10ms/sample - loss: 3.7787\n",
      "Epoch 254/300\n",
      "1/1 [==============================] - 0s 8ms/sample - loss: 3.7787\n",
      "Epoch 255/300\n",
      "1/1 [==============================] - 0s 11ms/sample - loss: 3.7787\n",
      "Epoch 256/300\n",
      "1/1 [==============================] - 0s 11ms/sample - loss: 3.7787\n",
      "Epoch 257/300\n",
      "1/1 [==============================] - 0s 12ms/sample - loss: 3.7787\n",
      "Epoch 258/300\n",
      "1/1 [==============================] - 0s 10ms/sample - loss: 3.7787\n",
      "Epoch 259/300\n",
      "1/1 [==============================] - 0s 9ms/sample - loss: 3.7787\n",
      "Epoch 260/300\n",
      "1/1 [==============================] - 0s 11ms/sample - loss: 3.7786\n",
      "Epoch 261/300\n",
      "1/1 [==============================] - 0s 11ms/sample - loss: 3.7786\n",
      "Epoch 262/300\n",
      "1/1 [==============================] - 0s 8ms/sample - loss: 3.7786\n",
      "Epoch 263/300\n",
      "1/1 [==============================] - 0s 12ms/sample - loss: 3.7786\n",
      "Epoch 264/300\n",
      "1/1 [==============================] - 0s 8ms/sample - loss: 3.7786\n",
      "Epoch 265/300\n",
      "1/1 [==============================] - 0s 11ms/sample - loss: 3.7786\n",
      "Epoch 266/300\n",
      "1/1 [==============================] - 0s 10ms/sample - loss: 3.7786\n",
      "Epoch 267/300\n",
      "1/1 [==============================] - 0s 16ms/sample - loss: 3.7786\n",
      "Epoch 268/300\n",
      "1/1 [==============================] - 0s 11ms/sample - loss: 3.7786\n",
      "Epoch 269/300\n",
      "1/1 [==============================] - 0s 18ms/sample - loss: 3.7786\n",
      "Epoch 270/300\n",
      "1/1 [==============================] - 0s 10ms/sample - loss: 3.7786\n",
      "Epoch 271/300\n",
      "1/1 [==============================] - 0s 16ms/sample - loss: 3.7786\n",
      "Epoch 272/300\n",
      "1/1 [==============================] - 0s 17ms/sample - loss: 3.7786\n",
      "Epoch 273/300\n",
      "1/1 [==============================] - 0s 12ms/sample - loss: 3.7786\n",
      "Epoch 274/300\n",
      "1/1 [==============================] - 0s 15ms/sample - loss: 3.7786\n",
      "Epoch 275/300\n",
      "1/1 [==============================] - 0s 11ms/sample - loss: 3.7786\n",
      "Epoch 276/300\n",
      "1/1 [==============================] - 0s 10ms/sample - loss: 3.7786\n",
      "Epoch 277/300\n",
      "1/1 [==============================] - 0s 12ms/sample - loss: 3.7786\n",
      "Epoch 278/300\n",
      "1/1 [==============================] - 0s 11ms/sample - loss: 3.7786\n",
      "Epoch 279/300\n",
      "1/1 [==============================] - 0s 14ms/sample - loss: 3.7786\n",
      "Epoch 280/300\n",
      "1/1 [==============================] - 0s 10ms/sample - loss: 3.7785\n",
      "Epoch 281/300\n",
      "1/1 [==============================] - 0s 11ms/sample - loss: 3.7785\n",
      "Epoch 282/300\n",
      "1/1 [==============================] - 0s 12ms/sample - loss: 3.7785\n",
      "Epoch 283/300\n",
      "1/1 [==============================] - 0s 9ms/sample - loss: 3.7785\n",
      "Epoch 284/300\n",
      "1/1 [==============================] - 0s 9ms/sample - loss: 3.7785\n",
      "Epoch 285/300\n",
      "1/1 [==============================] - 0s 9ms/sample - loss: 3.7785\n",
      "Epoch 286/300\n",
      "1/1 [==============================] - 0s 11ms/sample - loss: 3.7785\n",
      "Epoch 287/300\n",
      "1/1 [==============================] - 0s 10ms/sample - loss: 3.7785\n",
      "Epoch 288/300\n",
      "1/1 [==============================] - 0s 13ms/sample - loss: 3.7785\n",
      "Epoch 289/300\n",
      "1/1 [==============================] - 0s 10ms/sample - loss: 3.7785\n",
      "Epoch 290/300\n",
      "1/1 [==============================] - 0s 10ms/sample - loss: 3.7785\n",
      "Epoch 291/300\n",
      "1/1 [==============================] - 0s 11ms/sample - loss: 3.7785\n",
      "Epoch 292/300\n",
      "1/1 [==============================] - 0s 10ms/sample - loss: 3.7785\n",
      "Epoch 293/300\n",
      "1/1 [==============================] - 0s 11ms/sample - loss: 3.7785\n",
      "Epoch 294/300\n",
      "1/1 [==============================] - 0s 11ms/sample - loss: 3.7785\n",
      "Epoch 295/300\n",
      "1/1 [==============================] - 0s 11ms/sample - loss: 3.7785\n",
      "Epoch 296/300\n",
      "1/1 [==============================] - 0s 9ms/sample - loss: 3.7785\n",
      "Epoch 297/300\n",
      "1/1 [==============================] - 0s 10ms/sample - loss: 3.7785\n",
      "Epoch 298/300\n",
      "1/1 [==============================] - 0s 11ms/sample - loss: 3.7785\n",
      "Epoch 299/300\n",
      "1/1 [==============================] - 0s 10ms/sample - loss: 3.7784\n",
      "Epoch 300/300\n"
     ]
    },
    {
     "name": "stdout",
     "output_type": "stream",
     "text": [
      "\r",
      "1/1 [==============================] - 0s 11ms/sample - loss: 3.7784\n"
     ]
    }
   ],
   "source": [
    "model.compile(loss=tf.keras.losses.mean_absolute_error,\n",
    "              optimizer=tf.keras.optimizers.Adadelta())\n",
    "    \n",
    "history = model.fit(input_,optimum,epochs=300,verbose=1)"
   ]
  },
  {
   "cell_type": "code",
   "execution_count": 14,
   "metadata": {
    "colab": {},
    "colab_type": "code",
    "id": "0CfbWtA6eQuH"
   },
   "outputs": [
    {
     "data": {
      "image/png": "[encoded data removed]",
      "text/plain": [
       "<Figure size 432x288 with 1 Axes>"
      ]
     },
     "metadata": {
      "needs_background": "light"
     },
     "output_type": "display_data"
    }
   ],
   "source": [
    "plt.plot(history.history['loss'])\n",
    "plt.title(\"QAOA with TFQ\")\n",
    "plt.xlabel(\"Iteration\")\n",
    "plt.ylabel(\"Loss\")\n",
    "plt.show()\n"
   ]
  },
  {
   "cell_type": "code",
   "execution_count": 15,
   "metadata": {
    "colab": {},
    "colab_type": "code",
    "id": "Aa9e74pvxXH8"
   },
   "outputs": [
    {
     "name": "stdout",
     "output_type": "stream",
     "text": [
      "WARNING:tensorflow:From /Users/loichenriet/Pasqal_code/Demo_cirq/demo_cirq/lib/python3.7/site-packages/tensorflow_core/python/util/deprecation.py:507: calling count_nonzero (from tensorflow.python.ops.math_ops) with axis is deprecated and will be removed in a future version.\n",
      "Instructions for updating:\n",
      "reduction_indices is deprecated, use axis instead\n"
     ]
    }
   ],
   "source": [
    "# Read out the optimal paramters and sample from the final state 1000 times\n",
    "#from cirq.pasqal import PasqalNoiseModel\n",
    "\n",
    "params = model.trainable_variables\n",
    "add = tfq.layers.AddCircuit()\n",
    "output_circuit = add(input_, append =qaoa_circuit )\n",
    "\n",
    "p_noise_model = PasqalNoiseModel(device=p_named_device)\n",
    "my_sampler = cirq.DensityMatrixSimulator(noise=p_noise_model)\n",
    "\n",
    "sample_layer1 = tfq.layers.Sample(backend=my_sampler)\n",
    "output1 = sample_layer1(output_circuit,  symbol_names=qaoa_parameters, symbol_values = params, repetitions=1000)\n",
    "\n",
    "sample_layer = tfq.layers.Sample()\n",
    "output = sample_layer(output_circuit,  symbol_names=qaoa_parameters, symbol_values = params, repetitions=1000)"
   ]
  },
  {
   "cell_type": "code",
   "execution_count": 16,
   "metadata": {
    "colab": {},
    "colab_type": "code",
    "id": "lVo2oeNC0fzs"
   },
   "outputs": [],
   "source": [
    "# Translate output in cut sets\n",
    "cuts_qaoa = []\n",
    "for bit_string in output.values:\n",
    "  temp = []\n",
    "  for pos, bit in enumerate(bit_string):\n",
    "    if bit==1:\n",
    "      temp.append(pos)\n",
    "  cuts_qaoa.append(temp)\n",
    "\n",
    "\n",
    "cuts_qaoa1 = []\n",
    "for bit_string in output1.values:\n",
    "  temp1 = []\n",
    "  for pos, bit in enumerate(bit_string):\n",
    "    if bit==1:\n",
    "      temp1.append(pos)\n",
    "  cuts_qaoa1.append(temp1)\n",
    "#print(cuts_qaoa)\n",
    "#print(cuts_qaoa1)"
   ]
  },
  {
   "cell_type": "code",
   "execution_count": 17,
   "metadata": {
    "colab": {},
    "colab_type": "code",
    "id": "93R1MoMe6guh"
   },
   "outputs": [],
   "source": [
    "# Generate a list with all possible subsets\n",
    "from itertools import combinations\n",
    "sub_lists = []\n",
    "for i in range(0, len(maxcut_graph.nodes())+1):\n",
    "  temp = [list(x) for x in combinations(maxcut_graph.nodes(), i)]\n",
    "  sub_lists.extend(temp)"
   ]
  },
  {
   "cell_type": "code",
   "execution_count": 18,
   "metadata": {
    "colab": {},
    "colab_type": "code",
    "id": "9gOoGimx6z2v"
   },
   "outputs": [],
   "source": [
    "# Calculate the cut_size for all possible cuts\n",
    "cut_size = []\n",
    "for sub_list in sub_lists:\n",
    "  cut_size.append(nx.algorithms.cuts.cut_size(maxcut_graph,sub_list))\n",
    "\n",
    "# Calculate the cut_size for the cuts found with QAOA\n",
    "cut_size_qaoa = []\n",
    "for cut in cuts_qaoa:\n",
    "  cut_size_qaoa.append(nx.algorithms.cuts.cut_size(maxcut_graph,cut))\n",
    "\n",
    "\n",
    "cut_size_qaoa1 = []\n",
    "for cut in cuts_qaoa1:\n",
    "  cut_size_qaoa1.append(nx.algorithms.cuts.cut_size(maxcut_graph,cut))"
   ]
  },
  {
   "cell_type": "code",
   "execution_count": 19,
   "metadata": {
    "colab": {},
    "colab_type": "code",
    "id": "nW1uZWrK63PH"
   },
   "outputs": [
    {
     "name": "stdout",
     "output_type": "stream",
     "text": [
      "0.8289\n",
      "0.6829\n"
     ]
    }
   ],
   "source": [
    "# Calculate the approximation ratio\n",
    "print(np.mean(cut_size_qaoa)/np.max(cut_size))\n",
    "print(np.mean(cut_size_qaoa1)/np.max(cut_size))"
   ]
  }
 ],
 "metadata": {
  "colab": {
   "collapsed_sections": [],
   "name": "Copie de TFQ_Example_BasicQAOA.ipynb",
   "provenance": []
  },
  "kernelspec": {
   "display_name": "demo_cirq",
   "language": "python",
   "name": "demo_cirq"
  },
  "language_info": {
   "codemirror_mode": {
    "name": "ipython",
    "version": 3
   },
   "file_extension": ".py",
   "mimetype": "text/x-python",
   "name": "python",
   "nbconvert_exporter": "python",
   "pygments_lexer": "ipython3",
   "version": "3.7.6"
  }
 },
 "nbformat": 4,
 "nbformat_minor": 1
}
